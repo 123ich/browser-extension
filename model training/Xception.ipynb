{
  "cells": [
    {
      "cell_type": "markdown",
      "metadata": {
        "id": "view-in-github",
        "colab_type": "text"
      },
      "source": [
        "<a href=\"https://colab.research.google.com/github/123ich/Web-extension-for-facial-expression-/blob/master/model%20training/Xception.ipynb\" target=\"_parent\"><img src=\"https://colab.research.google.com/assets/colab-badge.svg\" alt=\"Open In Colab\"/></a>"
      ]
    },
    {
      "cell_type": "markdown",
      "source": [
        "#SETUP"
      ],
      "metadata": {
        "id": "w2SKiKcwI2dG"
      }
    },
    {
      "cell_type": "code",
      "execution_count": null,
      "metadata": {
        "id": "eeaoeB4-cSSq"
      },
      "outputs": [],
      "source": [
        "import tensorflow as tf\n",
        "import os\n",
        "import numpy as np\n",
        "from matplotlib import pyplot as plt\n",
        "from google.colab import drive\n",
        "from tensorflow.keras.models import Sequential\n",
        "from tensorflow import keras\n",
        "from tensorflow.keras import layers\n",
        "from tensorflow.keras.models import Model\n",
        "from tensorflow.keras.layers import Input, Conv2D, Dense, GlobalMaxPooling2D,Flatten\n",
        "from tensorflow.keras.applications import Xception\n",
        "from tensorflow import keras\n",
        "from tensorflow.keras.layers import Dropout\n",
        "tf.get_logger().setLevel('ERROR')"
      ]
    },
    {
      "cell_type": "code",
      "execution_count": null,
      "metadata": {
        "id": "6XnQC9wuca7q"
      },
      "outputs": [],
      "source": [
        "gpus = tf.config.experimental.list_physical_devices('GPU')\n",
        "for gpu in gpus: \n",
        "    tf.config.experimental.set_memory_growth(gpu, True)"
      ]
    },
    {
      "cell_type": "code",
      "execution_count": null,
      "metadata": {
        "colab": {
          "base_uri": "https://localhost:8080/"
        },
        "id": "voR1o1IsclLX",
        "outputId": "f131ce22-afeb-4cee-f9da-8e52f85064f9"
      },
      "outputs": [
        {
          "output_type": "execute_result",
          "data": {
            "text/plain": [
              "[PhysicalDevice(name='/physical_device:GPU:0', device_type='GPU')]"
            ]
          },
          "metadata": {},
          "execution_count": 3
        }
      ],
      "source": [
        "\n",
        "tf.config.list_physical_devices('GPU')"
      ]
    },
    {
      "cell_type": "code",
      "execution_count": null,
      "metadata": {
        "colab": {
          "base_uri": "https://localhost:8080/"
        },
        "id": "nvzRCqibctgJ",
        "outputId": "7ce215fe-7b28-42f1-ee94-8ad33d283185"
      },
      "outputs": [
        {
          "output_type": "stream",
          "name": "stdout",
          "text": [
            "Mounted at /content/drive/\n"
          ]
        }
      ],
      "source": [
        "drive.mount('/content/drive/', force_remount=True)"
      ]
    },
    {
      "cell_type": "code",
      "execution_count": null,
      "metadata": {
        "id": "E-rk71EEcvwW"
      },
      "outputs": [],
      "source": [
        "data_dir = \"/content/drive/MyDrive/affectNet/train_class\""
      ]
    },
    {
      "cell_type": "code",
      "execution_count": null,
      "metadata": {
        "id": "--bsHMLpkvkZ"
      },
      "outputs": [],
      "source": [
        "data_dir2 = \"/content/drive/MyDrive/affectNet/val_class\""
      ]
    },
    {
      "cell_type": "markdown",
      "metadata": {
        "id": "2HAfQoZXdBor"
      },
      "source": [
        "Load Data"
      ]
    },
    {
      "cell_type": "code",
      "execution_count": null,
      "metadata": {
        "id": "NqNybosIdDUE"
      },
      "outputs": [],
      "source": [
        "data = tf.keras.utils.image_dataset_from_directory(data_dir)"
      ]
    },
    {
      "cell_type": "code",
      "execution_count": null,
      "metadata": {
        "id": "us6yNilAdHDE"
      },
      "outputs": [],
      "source": [
        "data_iterator = data.as_numpy_iterator()"
      ]
    },
    {
      "cell_type": "code",
      "execution_count": null,
      "metadata": {
        "id": "EEYif5cvdmx4"
      },
      "outputs": [],
      "source": [
        "batch = data_iterator.next()"
      ]
    },
    {
      "cell_type": "code",
      "execution_count": null,
      "metadata": {
        "id": "yk48xJ7QeOkQ"
      },
      "outputs": [],
      "source": [
        "batch[1][:4]"
      ]
    },
    {
      "cell_type": "code",
      "execution_count": null,
      "metadata": {
        "id": "sbd3KjerepJo"
      },
      "outputs": [],
      "source": [
        "val_data = tf.keras.utils.image_dataset_from_directory(data_dir2)"
      ]
    },
    {
      "cell_type": "code",
      "execution_count": null,
      "metadata": {
        "id": "RY4N2iLTk5Bh"
      },
      "outputs": [],
      "source": [
        "val_data_iterator = val_data.as_numpy_iterator()"
      ]
    },
    {
      "cell_type": "code",
      "execution_count": null,
      "metadata": {
        "id": "zpV_Ar83k_Q2"
      },
      "outputs": [],
      "source": [
        "val_batch = val_data_iterator.next()"
      ]
    },
    {
      "cell_type": "markdown",
      "metadata": {
        "id": "Gy8kBTzWrUGh"
      },
      "source": [
        "SCALE DATA"
      ]
    },
    {
      "cell_type": "code",
      "execution_count": null,
      "metadata": {
        "id": "RSjlAxNIqL4b"
      },
      "outputs": [],
      "source": [
        "data = data.map(lambda x,y: (x/255, y))"
      ]
    },
    {
      "cell_type": "code",
      "execution_count": null,
      "metadata": {
        "id": "H-4zmf8BrbDo"
      },
      "outputs": [],
      "source": [
        "val_data= val_data.map(lambda x,y: (x/255, y))"
      ]
    },
    {
      "cell_type": "code",
      "execution_count": null,
      "metadata": {
        "id": "cWPv4YuurfoT"
      },
      "outputs": [],
      "source": [
        "data.as_numpy_iterator().next()"
      ]
    },
    {
      "cell_type": "code",
      "execution_count": null,
      "metadata": {
        "id": "Pn6cAzbDriJW"
      },
      "outputs": [],
      "source": [
        "val_data.as_numpy_iterator().next()"
      ]
    },
    {
      "cell_type": "markdown",
      "metadata": {
        "id": "YmPWA9IDrn6w"
      },
      "source": [
        "Split val data to test and validation"
      ]
    },
    {
      "cell_type": "code",
      "execution_count": null,
      "metadata": {
        "id": "l5aZV4ecrk5X"
      },
      "outputs": [],
      "source": [
        "val_size = int(len(val_data)*.5)\n",
        "test_size = int(len(val_data)*.3)"
      ]
    },
    {
      "cell_type": "code",
      "execution_count": null,
      "metadata": {
        "id": "LXEK-PZDrv86"
      },
      "outputs": [],
      "source": [
        "val = val_data.take(val_size)\n",
        "test = val_data.skip(val_size).take(test_size)"
      ]
    },
    {
      "cell_type": "code",
      "execution_count": null,
      "metadata": {
        "id": "wXQIksB-tEUP"
      },
      "outputs": [],
      "source": [
        "train=data.take(int(len(data)*.7))"
      ]
    },
    {
      "cell_type": "code",
      "execution_count": null,
      "metadata": {
        "id": "RxwWQ4r3hyBZ"
      },
      "outputs": [],
      "source": [
        "#DATA AUGMENTATION\n",
        "data_augmentation =Sequential(\n",
        "  [\n",
        "    layers.RandomFlip(\"horizontal\",\n",
        "                      input_shape=(256,\n",
        "                                  256,\n",
        "                                  3)),\n",
        "    layers.RandomRotation(0.1),\n",
        "  ]\n",
        ")\n"
      ]
    },
    {
      "cell_type": "markdown",
      "source": [
        "IMPORTING XCEPTION MODEL"
      ],
      "metadata": {
        "id": "pOLNdB3MJAeB"
      }
    },
    {
      "cell_type": "code",
      "execution_count": null,
      "metadata": {
        "id": "1Pv5_4vLsRUK",
        "colab": {
          "base_uri": "https://localhost:8080/"
        },
        "outputId": "1262c3bc-14d1-4759-c4e8-7c6d749f56d2"
      },
      "outputs": [
        {
          "output_type": "stream",
          "name": "stdout",
          "text": [
            "Downloading data from https://storage.googleapis.com/tensorflow/keras-applications/xception/xception_weights_tf_dim_ordering_tf_kernels_notop.h5\n",
            "83683744/83683744 [==============================] - 0s 0us/step\n"
          ]
        }
      ],
      "source": [
        "xcep = Xception(input_shape= (256,256,3),include_top=False)"
      ]
    },
    {
      "cell_type": "markdown",
      "source": [
        "FREEZING THE LAYERS"
      ],
      "metadata": {
        "id": "-ueGJsL5JE8y"
      }
    },
    {
      "cell_type": "code",
      "execution_count": null,
      "metadata": {
        "id": "qil9SVG3sWY9"
      },
      "outputs": [],
      "source": [
        "for layer in xcep.layers:\n",
        "    layer.trainable = False"
      ]
    },
    {
      "cell_type": "code",
      "execution_count": null,
      "metadata": {
        "id": "N39S-abgsemk"
      },
      "outputs": [],
      "source": [
        "#PERSONALIZE THE MODEL BY ADDING OUR OWN FULLY CONNECTED LAYERS WITH AN OUTPUT LAYER WITH 6 NEURONS FOR THE CLASSIFICATION\n",
        "model = Sequential([\n",
        "    data_augmentation,\n",
        "    xcep,\n",
        "    Flatten(),\n",
        "    Dense(512, activation='relu'),\n",
        "    Dense(256, activation='relu'),\n",
        "\n",
        "    Dropout(0.2),\n",
        "    Dense(6, activation='softmax')\n",
        "])"
      ]
    },
    {
      "cell_type": "code",
      "execution_count": null,
      "metadata": {
        "id": "-pMrfPDbsjW8",
        "colab": {
          "base_uri": "https://localhost:8080/"
        },
        "outputId": "cf1d3d6a-e9a5-4820-b1ad-09ce5cf4d348"
      },
      "outputs": [
        {
          "output_type": "stream",
          "name": "stdout",
          "text": [
            "Model: \"sequential_1\"\n",
            "_________________________________________________________________\n",
            " Layer (type)                Output Shape              Param #   \n",
            "=================================================================\n",
            " sequential (Sequential)     (None, 256, 256, 3)       0         \n",
            "                                                                 \n",
            " xception (Functional)       (None, 8, 8, 2048)        20861480  \n",
            "                                                                 \n",
            " flatten (Flatten)           (None, 131072)            0         \n",
            "                                                                 \n",
            " dense (Dense)               (None, 512)               67109376  \n",
            "                                                                 \n",
            " dense_1 (Dense)             (None, 256)               131328    \n",
            "                                                                 \n",
            " dropout (Dropout)           (None, 256)               0         \n",
            "                                                                 \n",
            " dense_2 (Dense)             (None, 6)                 1542      \n",
            "                                                                 \n",
            "=================================================================\n",
            "Total params: 88,103,726\n",
            "Trainable params: 67,242,246\n",
            "Non-trainable params: 20,861,480\n",
            "_________________________________________________________________\n"
          ]
        }
      ],
      "source": [
        "model.summary()"
      ]
    },
    {
      "cell_type": "code",
      "execution_count": null,
      "metadata": {
        "id": "e8i0idjEsmoE"
      },
      "outputs": [],
      "source": [
        "model.compile(\n",
        "  optimizer='adam',\n",
        "  loss=tf.keras.losses.SparseCategoricalCrossentropy(from_logits=False),\n",
        "  metrics=['accuracy'])"
      ]
    },
    {
      "cell_type": "code",
      "execution_count": null,
      "metadata": {
        "id": "y2EYSnDms8Ud"
      },
      "outputs": [],
      "source": [
        "logdir='logs'"
      ]
    },
    {
      "cell_type": "code",
      "execution_count": null,
      "metadata": {
        "id": "S1fatT6fswnH"
      },
      "outputs": [],
      "source": [
        "tensorboard_callback = tf.keras.callbacks.TensorBoard(log_dir=logdir)"
      ]
    },
    {
      "cell_type": "code",
      "execution_count": null,
      "metadata": {
        "id": "iAoZEHs-sp5y",
        "colab": {
          "base_uri": "https://localhost:8080/"
        },
        "outputId": "dc2dc0db-a827-4751-e4bd-e4af8201abcd"
      },
      "outputs": [
        {
          "output_type": "stream",
          "name": "stdout",
          "text": [
            "Epoch 1/15\n",
            "657/657 [==============================] - 2183s 3s/step - loss: 2.0433 - accuracy: 0.2842 - val_loss: 1.5769 - val_accuracy: 0.3590\n",
            "Epoch 2/15\n",
            "657/657 [==============================] - 130s 197ms/step - loss: 1.5855 - accuracy: 0.3428 - val_loss: 1.5298 - val_accuracy: 0.3710\n",
            "Epoch 3/15\n",
            "657/657 [==============================] - 129s 195ms/step - loss: 1.5364 - accuracy: 0.3719 - val_loss: 1.5305 - val_accuracy: 0.3750\n",
            "Epoch 4/15\n",
            "657/657 [==============================] - 128s 194ms/step - loss: 1.4976 - accuracy: 0.3898 - val_loss: 1.5324 - val_accuracy: 0.4003\n",
            "Epoch 5/15\n",
            "657/657 [==============================] - 129s 195ms/step - loss: 1.4711 - accuracy: 0.4056 - val_loss: 1.4872 - val_accuracy: 0.4096\n",
            "Epoch 6/15\n",
            "657/657 [==============================] - 129s 195ms/step - loss: 1.4538 - accuracy: 0.4189 - val_loss: 1.4434 - val_accuracy: 0.4375\n",
            "Epoch 7/15\n",
            "657/657 [==============================] - 129s 195ms/step - loss: 1.4329 - accuracy: 0.4287 - val_loss: 1.4464 - val_accuracy: 0.4262\n",
            "Epoch 8/15\n",
            "657/657 [==============================] - 129s 195ms/step - loss: 1.4158 - accuracy: 0.4340 - val_loss: 1.4373 - val_accuracy: 0.4428\n",
            "Epoch 9/15\n",
            "657/657 [==============================] - 127s 193ms/step - loss: 1.4029 - accuracy: 0.4420 - val_loss: 1.4487 - val_accuracy: 0.4209\n",
            "Epoch 10/15\n",
            "657/657 [==============================] - 129s 196ms/step - loss: 1.3830 - accuracy: 0.4562 - val_loss: 1.4511 - val_accuracy: 0.4122\n",
            "Epoch 11/15\n",
            "657/657 [==============================] - 129s 195ms/step - loss: 1.3718 - accuracy: 0.4597 - val_loss: 1.4527 - val_accuracy: 0.4322\n",
            "Epoch 12/15\n",
            "657/657 [==============================] - 128s 194ms/step - loss: 1.3478 - accuracy: 0.4727 - val_loss: 1.5018 - val_accuracy: 0.4229\n",
            "Epoch 13/15\n",
            "657/657 [==============================] - 128s 193ms/step - loss: 1.3340 - accuracy: 0.4770 - val_loss: 1.4548 - val_accuracy: 0.4262\n",
            "Epoch 14/15\n",
            "657/657 [==============================] - 128s 193ms/step - loss: 1.3266 - accuracy: 0.4821 - val_loss: 1.4559 - val_accuracy: 0.4422\n",
            "Epoch 15/15\n",
            "657/657 [==============================] - 128s 193ms/step - loss: 1.3110 - accuracy: 0.4873 - val_loss: 1.4513 - val_accuracy: 0.4309\n"
          ]
        }
      ],
      "source": [
        "hist = model.fit(train, epochs=15, validation_data=val, callbacks=[tensorboard_callback])\n"
      ]
    },
    {
      "cell_type": "markdown",
      "metadata": {
        "id": "KTc3Ljkpes_5"
      },
      "source": [
        "plot performance"
      ]
    },
    {
      "cell_type": "code",
      "execution_count": null,
      "metadata": {
        "colab": {
          "base_uri": "https://localhost:8080/",
          "height": 478
        },
        "id": "ekuuYa4LtJmd",
        "outputId": "a9180e84-b4fc-49dc-df7f-4c78576d8d4b"
      },
      "outputs": [
        {
          "output_type": "display_data",
          "data": {
            "text/plain": [
              "<Figure size 640x480 with 1 Axes>"
            ],
            "image/png": "[encoded data removed]"
          },
          "metadata": {}
        }
      ],
      "source": [
        "fig = plt.figure()\n",
        "plt.plot(hist.history['loss'], color='teal', label='loss')\n",
        "plt.plot(hist.history['val_loss'], color='orange', label='val_loss')\n",
        "fig.suptitle('Loss', fontsize=20)\n",
        "plt.legend(loc=\"upper left\")\n",
        "plt.show()"
      ]
    },
    {
      "cell_type": "code",
      "execution_count": null,
      "metadata": {
        "colab": {
          "base_uri": "https://localhost:8080/",
          "height": 478
        },
        "id": "KhuLlwCSfnhB",
        "outputId": "76f55efa-f7b9-4d61-f7a8-41fc9e7f8628"
      },
      "outputs": [
        {
          "output_type": "display_data",
          "data": {
            "text/plain": [
              "<Figure size 640x480 with 1 Axes>"
            ],
            "image/png": "[encoded data removed]"
          },
          "metadata": {}
        }
      ],
      "source": [
        "fig = plt.figure()\n",
        "plt.plot(hist.history['accuracy'], color='teal', label='accuracy')\n",
        "plt.plot(hist.history['val_accuracy'], color='orange', label='val_accuracy')\n",
        "fig.suptitle('Accuracy', fontsize=20)\n",
        "plt.legend(loc=\"upper left\")\n",
        "plt.show()"
      ]
    },
    {
      "cell_type": "code",
      "source": [
        "tf.keras.models.save_model(model,'/content/drive/MyDrive/Xception classifier.h5')"
      ],
      "metadata": {
        "id": "sLii7e9Ft8QF"
      },
      "execution_count": null,
      "outputs": []
    }
  ],
  "metadata": {
    "accelerator": "GPU",
    "colab": {
      "provenance": [],
      "include_colab_link": true
    },
    "gpuClass": "standard",
    "kernelspec": {
      "display_name": "Python 3 (ipykernel)",
      "language": "python",
      "name": "python3"
    },
    "language_info": {
      "codemirror_mode": {
        "name": "ipython",
        "version": 3
      },
      "file_extension": ".py",
      "mimetype": "text/x-python",
      "name": "python",
      "nbconvert_exporter": "python",
      "pygments_lexer": "ipython3",
      "version": "3.9.7"
    }
  },
  "nbformat": 4,
  "nbformat_minor": 0
}